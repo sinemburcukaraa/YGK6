{
 "cells": [
  {
   "cell_type": "code",
   "execution_count": 2,
   "id": "995b0b8d-895e-4d6f-9a90-4d3bae13c80d",
   "metadata": {},
   "outputs": [],
   "source": [
    "import numpy as np"
   ]
  },
  {
   "cell_type": "code",
   "execution_count": 10,
   "id": "87b5194a-025a-4cd4-b102-78d31eb8d5cf",
   "metadata": {},
   "outputs": [
    {
     "name": "stdout",
     "output_type": "stream",
     "text": [
      "1D Array:\n",
      "[1 2 3 4 5]\n",
      "Boyut: 1\n",
      "Eleman sayısı: 5\n",
      "Shape: (5,)\n"
     ]
    }
   ],
   "source": [
    "array_1d = np.array([1, 2, 3, 4, 5], dtype=int)\n",
    "\n",
    "print(\"1D Array:\")\n",
    "print(array_1d)\n",
    "print(\"Boyut:\", array_1d.ndim)\n",
    "print(\"Eleman sayısı:\", array_1d.size)\n",
    "print(\"Shape:\", array_1d.shape)"
   ]
  },
  {
   "cell_type": "code",
   "execution_count": 14,
   "id": "210d2e67-e072-41b1-8bfd-daf35b1d8075",
   "metadata": {},
   "outputs": [
    {
     "name": "stdout",
     "output_type": "stream",
     "text": [
      "2D Array:\n",
      "[[1 2 3]\n",
      " [4 5 6]]\n",
      "Boyut: 2\n",
      "Eleman sayısı: 6\n",
      "Shape (satır, sütun): (2, 3)\n"
     ]
    }
   ],
   "source": [
    "array_2d = np.array([[1, 2, 3], [4, 5, 6]], dtype=int)\n",
    "\n",
    "print(\"2D Array:\")\n",
    "print(array_2d)\n",
    "print(\"Boyut:\", array_2d.ndim)\n",
    "print(\"Eleman sayısı:\", array_2d.size)\n",
    "print(\"Shape (satır, sütun):\", array_2d.shape)"
   ]
  },
  {
   "cell_type": "code",
   "execution_count": 16,
   "id": "76d04f1f-a1c4-4345-a3ad-1a9e59ba14d4",
   "metadata": {},
   "outputs": [
    {
     "name": "stdout",
     "output_type": "stream",
     "text": [
      "3D Array:\n",
      "[[[ 1  2  3]\n",
      "  [ 4  5  6]]\n",
      "\n",
      " [[ 7  8  9]\n",
      "  [10 11 12]]]\n",
      "Boyut: 3\n",
      "Eleman sayısı: 12\n",
      "Shape (derinlik, satır, sütun): (2, 2, 3)\n"
     ]
    }
   ],
   "source": [
    "array_3d = np.array([[[1, 2, 3], [4, 5, 6]], [[7, 8, 9], [10, 11, 12]]], dtype=int)\n",
    "\n",
    "print(\"3D Array:\")\n",
    "print(array_3d)\n",
    "print(\"Boyut:\", array_3d.ndim)\n",
    "print(\"Eleman sayısı:\", array_3d.size)\n",
    "print(\"Shape (derinlik, satır, sütun):\", array_3d.shape)"
   ]
  },
  {
   "cell_type": "code",
   "execution_count": 36,
   "id": "9c0a73ae-3180-4cb8-9455-c63dc0e51668",
   "metadata": {},
   "outputs": [
    {
     "data": {
      "text/plain": [
       "1"
      ]
     },
     "execution_count": 36,
     "metadata": {},
     "output_type": "execute_result"
    }
   ],
   "source": [
    "array_1d[0]"
   ]
  },
  {
   "cell_type": "code",
   "execution_count": 38,
   "id": "97c61120-4aeb-4834-b3fd-242a5ee09d23",
   "metadata": {},
   "outputs": [
    {
     "data": {
      "text/plain": [
       "array([1, 2, 3])"
      ]
     },
     "execution_count": 38,
     "metadata": {},
     "output_type": "execute_result"
    }
   ],
   "source": [
    "array_1d[:3]"
   ]
  },
  {
   "cell_type": "code",
   "execution_count": 49,
   "id": "1da9d2eb-f225-4780-8111-9af257cbb679",
   "metadata": {},
   "outputs": [
    {
     "data": {
      "text/plain": [
       "array([1, 2, 3])"
      ]
     },
     "execution_count": 49,
     "metadata": {},
     "output_type": "execute_result"
    }
   ],
   "source": [
    "array_2d[0, :]"
   ]
  },
  {
   "cell_type": "code",
   "execution_count": 47,
   "id": "dd877b8f-3e2c-4250-8eef-1c072e722961",
   "metadata": {},
   "outputs": [
    {
     "data": {
      "text/plain": [
       "array([1, 4])"
      ]
     },
     "execution_count": 47,
     "metadata": {},
     "output_type": "execute_result"
    }
   ],
   "source": [
    "array_2d[:, 0]"
   ]
  },
  {
   "cell_type": "code",
   "execution_count": 45,
   "id": "a5c0d499-f2bd-4e90-ab0b-c83b10daba09",
   "metadata": {},
   "outputs": [
    {
     "data": {
      "text/plain": [
       "5"
      ]
     },
     "execution_count": 45,
     "metadata": {},
     "output_type": "execute_result"
    }
   ],
   "source": [
    "array_2d[1, 1]"
   ]
  },
  {
   "cell_type": "code",
   "execution_count": 51,
   "id": "1138c1fd-8c94-4a95-a854-50473dab6c18",
   "metadata": {},
   "outputs": [
    {
     "data": {
      "text/plain": [
       "array([[1, 2, 3],\n",
       "       [4, 5, 6]])"
      ]
     },
     "execution_count": 51,
     "metadata": {},
     "output_type": "execute_result"
    }
   ],
   "source": [
    "array_3d[0, :, :]"
   ]
  },
  {
   "cell_type": "code",
   "execution_count": 55,
   "id": "a1b46fa8-849b-4525-8d73-db4a44bcd757",
   "metadata": {},
   "outputs": [
    {
     "data": {
      "text/plain": [
       "array([1, 7])"
      ]
     },
     "execution_count": 55,
     "metadata": {},
     "output_type": "execute_result"
    }
   ],
   "source": [
    "array_3d[:, 0, 0]"
   ]
  },
  {
   "cell_type": "code",
   "execution_count": 57,
   "id": "e371d2ce-1b66-4af1-b485-39ec9bdceabb",
   "metadata": {},
   "outputs": [
    {
     "name": "stdout",
     "output_type": "stream",
     "text": [
      "\n",
      "Satır bazında birleştirme:\n",
      "[[0 0 0]\n",
      " [0 0 0]\n",
      " [1 1 1]\n",
      " [1 1 1]]\n",
      "\n",
      "Sütun bazında birleştirme:\n",
      "[[0 0 0 1 1 1]\n",
      " [0 0 0 1 1 1]]\n"
     ]
    }
   ],
   "source": [
    "zeros_array = np.zeros((2, 3), dtype=int)\n",
    "ones_array = np.ones((2, 3), dtype=int)\n",
    "\n",
    "row_concat = np.vstack((zeros_array, ones_array))\n",
    "print(\"\\nSatır bazında birleştirme:\")\n",
    "print(row_concat)\n",
    "\n",
    "col_concat = np.hstack((zeros_array, ones_array))\n",
    "print(\"\\nSütun bazında birleştirme:\")\n",
    "print(col_concat)"
   ]
  },
  {
   "cell_type": "code",
   "execution_count": null,
   "id": "d8c9e95e-de6d-4264-9295-bfd7cd178f95",
   "metadata": {},
   "outputs": [],
   "source": []
  }
 ],
 "metadata": {
  "kernelspec": {
   "display_name": "Python 3 (ipykernel)",
   "language": "python",
   "name": "python3"
  },
  "language_info": {
   "codemirror_mode": {
    "name": "ipython",
    "version": 3
   },
   "file_extension": ".py",
   "mimetype": "text/x-python",
   "name": "python",
   "nbconvert_exporter": "python",
   "pygments_lexer": "ipython3",
   "version": "3.12.4"
  }
 },
 "nbformat": 4,
 "nbformat_minor": 5
}
